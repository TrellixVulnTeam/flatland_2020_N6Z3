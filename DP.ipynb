{
 "cells": [
  {
   "cell_type": "code",
   "execution_count": 8,
   "metadata": {},
   "outputs": [],
   "source": [
    "import pandas as pd\n",
    "import numpy as np\n",
    "import matplotlib.pyplot as plt"
   ]
  },
  {
   "cell_type": "code",
   "execution_count": 9,
   "metadata": {},
   "outputs": [],
   "source": [
    "def get_train_test(df,test_size=0.5):   \n",
    "    \"\"\"Split Data into train and test sets.\"\"\"\n",
    "    y = df.action\n",
    "    X = df.drop([\"action\"], axis=1)\n",
    "    X = pd.get_dummies(X,)\n",
    "    # X.drop(X.columns[X.std() == 0], axis=1, inplace=True)\n",
    "    return train_test_split(X, y, test_size=test_size, random_state=SEED)"
   ]
  },
  {
   "cell_type": "code",
   "execution_count": 4,
   "metadata": {},
   "outputs": [],
   "source": [
    "# 获取数据\n",
    "df_original = pd.read_csv('final_test1.csv')\n",
    "df_original['action'] = df_original['action'].astype(int)\n",
    "df_original['priority'] = df_original['priority'].map(lambda x:x/df_original['priority'].max())\n",
    "df_original = df_original.drop(['handle'],axis=1)\n",
    "for i in range(2,10):\n",
    "    try:\n",
    "        filename = 'final_test' + str(i) + '.csv'\n",
    "        df_tmp = pd.read_csv(filename)\n",
    "        df_tmp['action'] = df_tmp['action'].astype(int)\n",
    "        df_tmp['priority'] = df_tmp['priority'].map(lambda x:x/df_tmp['priority'].max())\n",
    "        df_tmp = df_tmp.drop(['handle'],axis=1)\n",
    "        df_original = df_original.append(df_tmp, ignore_index=True)\n",
    "    except Exception as e:\n",
    "        pass"
   ]
  },
  {
   "cell_type": "code",
   "execution_count": 5,
   "metadata": {},
   "outputs": [
    {
     "name": "stdout",
     "output_type": "stream",
     "text": [
      "<class 'pandas.core.frame.DataFrame'>\n",
      "RangeIndex: 228401 entries, 0 to 228400\n",
      "Columns: 270 entries, initial_direction to old_position\n",
      "dtypes: float64(255), int64(13), object(2)\n",
      "memory usage: 481.0 MB\n"
     ]
    }
   ],
   "source": [
    "df_original.info(memory_usage='deep')"
   ]
  },
  {
   "cell_type": "code",
   "execution_count": 6,
   "metadata": {},
   "outputs": [
    {
     "name": "stdout",
     "output_type": "stream",
     "text": [
      "平均内存占用:(MB) float64 1.7357549369335175\n",
      "平均内存占用:(MB) int64 1.6181013924734933\n",
      "平均内存占用:(MB) object 4.669911702473958\n"
     ]
    }
   ],
   "source": [
    "for dtype in ['float64','int64','object']:\n",
    "    selected_dtype = df_original.select_dtypes(include = [dtype])  #选出类型为\"dtype\"的所有数据\n",
    "    mean_usage_b = selected_dtype.memory_usage(deep=True).mean()\n",
    "    mean_usage_mb = mean_usage_b/1024**2\n",
    "    print ('平均内存占用:(MB)',dtype,mean_usage_mb)"
   ]
  },
  {
   "cell_type": "code",
   "execution_count": 5,
   "metadata": {},
   "outputs": [
    {
     "name": "stdout",
     "output_type": "stream",
     "text": [
      "295.58 MB\n",
      "5618.88 MB\n"
     ]
    }
   ],
   "source": [
    "def mem_usage(pandas_obj):\n",
    "    if isinstance(pandas_obj,pd.DataFrame):  #如果传入的pandas_obj是DataFrame类型\n",
    "        usage_b = pandas_obj.memory_usage(deep=True).sum()\n",
    "    else:                                   #如果传入的pandas_obj是其它非DataFrame类型\n",
    "        usage_b = pandas_obj.memory_usage(deep=True)\n",
    "    usage_mb = usage_b/1024**2\n",
    "    return '{:03.2f} MB'.format(usage_mb)\n",
    "\n",
    "gl_int = df_original.select_dtypes(include = ['int64'])\n",
    "coverted_int = df_original.apply(pd.to_numeric,downcast='unsigned')  #downcast='unsigned' 向下进行整型的转化\n",
    "print (mem_usage(gl_int))\n",
    "print (mem_usage(coverted_int))"
   ]
  },
  {
   "cell_type": "code",
   "execution_count": 7,
   "metadata": {},
   "outputs": [
    {
     "data": {
      "image/png": "[encoded data removed]",
      "text/plain": [
       "<Figure size 432x288 with 1 Axes>"
      ]
     },
     "metadata": {
      "needs_background": "light"
     },
     "output_type": "display_data"
    },
    {
     "name": "stdout",
     "output_type": "stream",
     "text": [
      "0    119856\n",
      "2     64413\n",
      "4     28784\n",
      "1      7689\n",
      "3      7659\n",
      "Name: action, dtype: int64\n"
     ]
    }
   ],
   "source": [
    "df_original.action.value_counts(normalize=True).plot(\n",
    "    kind=\"bar\", title=\"action\")\n",
    "plt.show()\n",
    "print(df_original.action.value_counts(normalize=False))"
   ]
  },
  {
   "cell_type": "code",
   "execution_count": 7,
   "metadata": {},
   "outputs": [],
   "source": [
    "tmp_0 = df_original[df_original['action']==0].sample(n=103218,random_state=124,axis=0)\n",
    "tmp_2 = df_original[df_original['action']==2].sample(n=103218,random_state=124,axis=0)\n",
    "tmp_4 = df_original[df_original['action']==4].sample(n=103218,random_state=124,axis=0)\n",
    "tmp_1 = df_original[df_original['action']==1].sample(n=103218,random_state=124,axis=0)\n",
    "tmp_3 = df_original[df_original['action']==3]"
   ]
  },
  {
   "cell_type": "code",
   "execution_count": 8,
   "metadata": {},
   "outputs": [],
   "source": [
    "df = tmp_0.append([tmp_2,tmp_4,tmp_1,tmp_3], ignore_index=True)\n",
    "df = df.sample(frac=1)  # shuffle"
   ]
  },
  {
   "cell_type": "code",
   "execution_count": 9,
   "metadata": {},
   "outputs": [],
   "source": [
    "from sklearn.model_selection import cross_val_score\n",
    "from sklearn.datasets import make_blobs\n",
    "from sklearn.ensemble import RandomForestClassifier\n",
    "from sklearn.ensemble import ExtraTreesClassifier\n",
    "from sklearn.tree import DecisionTreeClassifier"
   ]
  },
  {
   "cell_type": "code",
   "execution_count": null,
   "metadata": {},
   "outputs": [],
   "source": [
    "from sklearn.model_selection import cross_val_score\n",
    "from sklearn.ensemble import AdaBoostClassifier\n",
    "from sklearn import metrics\n",
    "from sklearn.metrics import accuracy_score,classification_report,confusion_matrix\n",
    "from sklearn.model_selection import train_test_split\n",
    "SEED = 222\n",
    "def get_train_test(df,test_size=0.5):   \n",
    "    \"\"\"Split Data into train and test sets.\"\"\"\n",
    "    y = df.action\n",
    "    X = df.drop([\"action\"], axis=1)\n",
    "    X = pd.get_dummies(X,)\n",
    "    # X.drop(X.columns[X.std() == 0], axis=1, inplace=True)\n",
    "    return train_test_split(X, y, test_size=test_size, random_state=SEED)\n",
    "\n",
    "xtrain, xtest, ytrain, ytest = get_train_test(df,test_size=0.1)\n",
    "clf = AdaBoostClassifier(n_estimators=400)\n",
    "clf.fit(xtrain,ytrain)\n",
    "y_predict = clf.predict(xtest)\n",
    "print(classification_report(ytest, y_predict, labels=None, target_names=None, sample_weight=None, digits=2))\n",
    "confusion_matrix(ytest, y_predict)"
   ]
  },
  {
   "cell_type": "code",
   "execution_count": null,
   "metadata": {},
   "outputs": [],
   "source": [
    "y_predict = clf.predict(xtrain)\n",
    "print(classification_report(ytrain, y_predict, labels=None, target_names=None, sample_weight=None, digits=2))\n",
    "confusion_matrix(ytrain, y_predict)"
   ]
  },
  {
   "cell_type": "code",
   "execution_count": null,
   "metadata": {},
   "outputs": [],
   "source": []
  },
  {
   "cell_type": "code",
   "execution_count": null,
   "metadata": {},
   "outputs": [],
   "source": [
    "from sklearn.ensemble import RandomForestClassifier\n",
    "xtrain, xtest, ytrain, ytest = get_train_test(df,test_size=0.1)\n",
    "clf = RandomForestClassifier(n_estimators=100)\n",
    "clf.fit(xtrain,ytrain)\n",
    "y_predict = clf.predict(xtest)\n",
    "print(classification_report(ytest, y_predict, labels=None, target_names=None, sample_weight=None, digits=2))\n",
    "confusion_matrix(ytest, y_predict)"
   ]
  },
  {
   "cell_type": "code",
   "execution_count": null,
   "metadata": {},
   "outputs": [],
   "source": [
    "y_predict = clf.predict(xtrain)\n",
    "print(classification_report(ytrain, y_predict, labels=None, target_names=None, sample_weight=None, digits=2))\n",
    "confusion_matrix(ytrain, y_predict)"
   ]
  },
  {
   "cell_type": "code",
   "execution_count": null,
   "metadata": {},
   "outputs": [],
   "source": []
  },
  {
   "cell_type": "code",
   "execution_count": null,
   "metadata": {},
   "outputs": [],
   "source": [
    "from sklearn.ensemble import ExtraTreesClassifier\n",
    "xtrain, xtest, ytrain, ytest = get_train_test(df,test_size=0.1)\n",
    "clf = ExtraTreesClassifier(n_estimators=100)\n",
    "clf.fit(xtrain,ytrain)\n",
    "y_predict = clf.predict(xtest)\n",
    "print(classification_report(ytest, y_predict, labels=None, target_names=None, sample_weight=None, digits=2))\n",
    "confusion_matrix(ytest, y_predict)"
   ]
  },
  {
   "cell_type": "code",
   "execution_count": null,
   "metadata": {},
   "outputs": [],
   "source": [
    "y_predict = clf.predict(xtrain)\n",
    "print(classification_report(ytrain, y_predict, labels=None, target_names=None, sample_weight=None, digits=2))\n",
    "confusion_matrix(ytrain, y_predict)"
   ]
  },
  {
   "cell_type": "code",
   "execution_count": null,
   "metadata": {},
   "outputs": [],
   "source": [
    "clf = 0"
   ]
  },
  {
   "cell_type": "code",
   "execution_count": null,
   "metadata": {},
   "outputs": [
    {
     "name": "stderr",
     "output_type": "stream",
     "text": [
      "/home/lomo/anaconda33/lib/python3.8/site-packages/sklearn/linear_model/_logistic.py:762: ConvergenceWarning: lbfgs failed to converge (status=1):\n",
      "STOP: TOTAL NO. of ITERATIONS REACHED LIMIT.\n",
      "\n",
      "Increase the number of iterations (max_iter) or scale the data as shown in:\n",
      "    https://scikit-learn.org/stable/modules/preprocessing.html\n",
      "Please also refer to the documentation for alternative solver options:\n",
      "    https://scikit-learn.org/stable/modules/linear_model.html#logistic-regression\n",
      "  n_iter_i = _check_optimize_result(\n"
     ]
    }
   ],
   "source": [
    "from sklearn.tree import DecisionTreeClassifier\n",
    "from sklearn.neighbors import KNeighborsClassifier\n",
    "from sklearn.svm import SVC\n",
    "from itertools import product\n",
    "from sklearn.ensemble import RandomForestClassifier, VotingClassifier\n",
    "from sklearn.naive_bayes import GaussianNB\n",
    "from sklearn.linear_model import LogisticRegression\n",
    "from sklearn.model_selection import train_test_split\n",
    "SEED = 222\n",
    "def get_train_test(df,test_size=0.5):   \n",
    "    \"\"\"Split Data into train and test sets.\"\"\"\n",
    "    y = df.action\n",
    "    X = df.drop([\"action\"], axis=1)\n",
    "    X = pd.get_dummies(X,)\n",
    "    # X.drop(X.columns[X.std() == 0], axis=1, inplace=True)\n",
    "    return train_test_split(X, y, test_size=test_size, random_state=SEED)\n",
    "xtrain, xtest, ytrain, ytest = get_train_test(df,test_size=0.5)\n",
    "\n",
    "clf1 = LogisticRegression(multi_class='multinomial', random_state=1)\n",
    "clf2 = RandomForestClassifier(n_estimators=100, random_state=1)\n",
    "clf3 = GaussianNB()\n",
    "clf4 = KNeighborsClassifier(n_neighbors=7)\n",
    "clf5 = SVC(kernel='rbf', probability=True)\n",
    "\n",
    "eclf1 = VotingClassifier(estimators=[('rf', clf1),('svc', clf2),('aa', clf3),('bb',clf4),('cc',clf5)], voting='hard', n_jobs=1)\n",
    "eclf1 = eclf1.fit(xtrain, ytrain)\n",
    "\n",
    "y_predict = eclf1.predict(xtest)\n",
    "print(classification_report(ytest, y_predict, labels=None, target_names=None, sample_weight=None, digits=2))\n",
    "confusion_matrix(ytest, y_predict)"
   ]
  },
  {
   "cell_type": "code",
   "execution_count": null,
   "metadata": {},
   "outputs": [],
   "source": []
  }
 ],
 "metadata": {
  "kernelspec": {
   "display_name": "Python 3",
   "language": "python",
   "name": "python3"
  },
  "language_info": {
   "codemirror_mode": {
    "name": "ipython",
    "version": 3
   },
   "file_extension": ".py",
   "mimetype": "text/x-python",
   "name": "python",
   "nbconvert_exporter": "python",
   "pygments_lexer": "ipython3",
   "version": "3.8.3"
  }
 },
 "nbformat": 4,
 "nbformat_minor": 4
}
